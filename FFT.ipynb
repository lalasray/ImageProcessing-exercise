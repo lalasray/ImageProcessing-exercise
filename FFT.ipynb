{
 "cells": [
  {
   "cell_type": "code",
   "execution_count": null,
   "metadata": {},
   "outputs": [],
   "source": [
    "import cv2\n",
    "import numpy as np\n",
    "\n",
    "plt.figure(figsize=(6.4*5, 4.8*5), constrained_layout=False)\n",
    "\n",
    "img_c1 = cv2.imread(\"messi1.JPEG\", 0)\n",
    "img_c2 = np.fft.fft2(img_c1)\n",
    "img_c3 = np.fft.fftshift(img_c2)\n",
    "img_c4 = np.fft.ifftshift(img_c3)\n",
    "img_c5 = np.fft.ifft2(img_c4)\n",
    "\n",
    "plt.subplot(151), plt.imshow(img_c1, \"gray\"), plt.title(\"Original Image\")\n",
    "plt.subplot(152), plt.imshow(np.log(1+np.abs(img_c2)), \"gray\"), plt.title(\"Spectrum\")\n",
    "plt.subplot(153), plt.imshow(np.log(1+np.abs(img_c3)), \"gray\"), plt.title(\"Centered Spectrum\")\n",
    "plt.subplot(154), plt.imshow(np.log(1+np.abs(img_c4)), \"gray\"), plt.title(\"Decentralized\")\n",
    "plt.subplot(155), plt.imshow(np.abs(img_c5), \"gray\"), plt.title(\"Processed Image\")\n",
    "\n",
    "plt.show()"
   ]
  }
 ],
 "metadata": {
  "kernelspec": {
   "display_name": "Python 3",
   "language": "python",
   "name": "python3"
  },
  "language_info": {
   "codemirror_mode": {
    "name": "ipython",
    "version": 3
   },
   "file_extension": ".py",
   "mimetype": "text/x-python",
   "name": "python",
   "nbconvert_exporter": "python",
   "pygments_lexer": "ipython3",
   "version": "3.7.7"
  }
 },
 "nbformat": 4,
 "nbformat_minor": 4
}
