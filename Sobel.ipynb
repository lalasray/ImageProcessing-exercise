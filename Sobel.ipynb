{
 "cells": [
  {
   "cell_type": "code",
   "execution_count": null,
   "metadata": {},
   "outputs": [],
   "source": [
    "import numpy as np\n",
    "import matplotlib.pyplot as plt\n",
    "from Computer_Vision.Canny_Edge_Detection.convolution import convolution\n",
    "\n",
    "\n",
    "def sobel_edge_detection(image, filter, convert_to_degree=False, verbose=False):\n",
    "    new_image_x = convolution(image, filter, verbose)\n",
    "\n",
    "    if verbose:\n",
    "        plt.imshow(new_image_x, cmap='gray')\n",
    "        plt.title(\"Horizontal Edge\")\n",
    "        plt.show()\n",
    "\n",
    "    new_image_y = convolution(image, np.flip(filter.T, axis=0), verbose)\n",
    "\n",
    "    if verbose:\n",
    "        plt.imshow(new_image_y, cmap='gray')\n",
    "        plt.title(\"Vertical Edge\")\n",
    "        plt.show()\n",
    "\n",
    "    gradient_magnitude = np.sqrt(np.square(new_image_x) + np.square(new_image_y))\n",
    "\n",
    "    gradient_magnitude *= 255.0 / gradient_magnitude.max()\n",
    "\n",
    "    if verbose:\n",
    "        plt.imshow(gradient_magnitude, cmap='gray')\n",
    "        plt.title(\"Gradient Magnitude\")\n",
    "        plt.show()\n",
    "\n",
    "    gradient_direction = np.arctan2(new_image_y, new_image_x)\n",
    "\n",
    "    if convert_to_degree:\n",
    "        gradient_direction = np.rad2deg(gradient_direction)\n",
    "        gradient_direction += 180\n",
    "\n",
    "    return gradient_magnitude, gradient_direction"
   ]
  }
 ],
 "metadata": {
  "kernelspec": {
   "display_name": "Python 3",
   "language": "python",
   "name": "python3"
  },
  "language_info": {
   "codemirror_mode": {
    "name": "ipython",
    "version": 3
   },
   "file_extension": ".py",
   "mimetype": "text/x-python",
   "name": "python",
   "nbconvert_exporter": "python",
   "pygments_lexer": "ipython3",
   "version": "3.7.7"
  }
 },
 "nbformat": 4,
 "nbformat_minor": 4
}
