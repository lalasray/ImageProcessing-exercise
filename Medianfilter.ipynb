{
 "cells": [
  {
   "cell_type": "code",
   "execution_count": null,
   "metadata": {},
   "outputs": [],
   "source": [
    "# Importing Image and ImageFilter module from PIL package   \n",
    "from PIL import Image, ImageFilter  \n",
    "     \n",
    "# creating a image object  \n",
    "im1 = Image.open(\"girl.JPEG\")  \n",
    "     \n",
    "# applying the median filter  \n",
    "im2 = im1.filter(ImageFilter.MedianFilter(size = 3))  \n",
    "     \n",
    "im2.show() "
   ]
  }
 ],
 "metadata": {
  "kernelspec": {
   "display_name": "Python 3",
   "language": "python",
   "name": "python3"
  },
  "language_info": {
   "codemirror_mode": {
    "name": "ipython",
    "version": 3
   },
   "file_extension": ".py",
   "mimetype": "text/x-python",
   "name": "python",
   "nbconvert_exporter": "python",
   "pygments_lexer": "ipython3",
   "version": "3.7.7"
  }
 },
 "nbformat": 4,
 "nbformat_minor": 4
}
