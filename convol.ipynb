{
 "cells": [
  {
   "cell_type": "code",
   "execution_count": null,
   "metadata": {},
   "outputs": [],
   "source": [
    "import numpy as np\n",
    "import cv2\n",
    "import matplotlib.pyplot as plt\n",
    "\n",
    "\n",
    "def convolution(image, kernel, average=False, verbose=False):\n",
    "    if len(image.shape) == 3:\n",
    "        print(\"Found 3 Channels : {}\".format(image.shape))\n",
    "        image = cv2.cvtColor(image, cv2.COLOR_BGR2GRAY)\n",
    "        print(\"Converted to Gray Channel. Size : {}\".format(image.shape))\n",
    "    else:\n",
    "        print(\"Image Shape : {}\".format(image.shape))\n",
    "\n",
    "    print(\"Kernel Shape : {}\".format(kernel.shape))\n",
    "\n",
    "    if verbose:\n",
    "        plt.imshow(image, cmap='gray')\n",
    "        plt.title(\"Image\")\n",
    "        plt.show()\n",
    "\n",
    "    image_row, image_col = image.shape\n",
    "    kernel_row, kernel_col = kernel.shape\n",
    "\n",
    "    output = np.zeros(image.shape)\n",
    "\n",
    "    pad_height = int((kernel_row - 1) / 2)\n",
    "    pad_width = int((kernel_col - 1) / 2)\n",
    "\n",
    "    padded_image = np.zeros((image_row + (2 * pad_height), image_col + (2 * pad_width)))\n",
    "\n",
    "    padded_image[pad_height:padded_image.shape[0] - pad_height, pad_width:padded_image.shape[1] - pad_width] = image\n",
    "\n",
    "    if verbose:\n",
    "        plt.imshow(padded_image, cmap='gray')\n",
    "        plt.title(\"Padded Image\")\n",
    "        plt.show()\n",
    "\n",
    "    for row in range(image_row):\n",
    "        for col in range(image_col):\n",
    "            output[row, col] = np.sum(kernel * padded_image[row:row + kernel_row, col:col + kernel_col])\n",
    "            if average:\n",
    "                output[row, col] /= kernel.shape[0] * kernel.shape[1]\n",
    "\n",
    "    print(\"Output Image size : {}\".format(output.shape))\n",
    "\n",
    "    if verbose:\n",
    "        plt.imshow(output, cmap='gray')\n",
    "        plt.title(\"Output Image using {}X{} Kernel\".format(kernel_row, kernel_col))\n",
    "        plt.show()\n",
    "\n",
    "    return output"
   ]
  }
 ],
 "metadata": {
  "kernelspec": {
   "display_name": "Python 3",
   "language": "python",
   "name": "python3"
  },
  "language_info": {
   "codemirror_mode": {
    "name": "ipython",
    "version": 3
   },
   "file_extension": ".py",
   "mimetype": "text/x-python",
   "name": "python",
   "nbconvert_exporter": "python",
   "pygments_lexer": "ipython3",
   "version": "3.7.7"
  }
 },
 "nbformat": 4,
 "nbformat_minor": 4
}
