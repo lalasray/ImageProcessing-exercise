{
 "cells": [
  {
   "cell_type": "code",
   "execution_count": null,
   "metadata": {},
   "outputs": [],
   "source": [
    "import cv2\n",
    " \n",
    "# Load the image\n",
    "image = cv2.imread(\"girl.JPEG\")\n",
    "# Blur the image\n",
    "gauss = cv2.GaussianBlur(image, (7,7), 0)\n",
    "# Apply Unsharp masking\n",
    "unsharp_image = cv2.addWeighted(image, 2, gauss, -1, 0)"
   ]
  }
 ],
 "metadata": {
  "kernelspec": {
   "display_name": "Python 3",
   "language": "python",
   "name": "python3"
  },
  "language_info": {
   "codemirror_mode": {
    "name": "ipython",
    "version": 3
   },
   "file_extension": ".py",
   "mimetype": "text/x-python",
   "name": "python",
   "nbconvert_exporter": "python",
   "pygments_lexer": "ipython3",
   "version": "3.7.7"
  }
 },
 "nbformat": 4,
 "nbformat_minor": 4
}
