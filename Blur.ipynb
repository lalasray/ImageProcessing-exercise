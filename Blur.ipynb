{
 "cells": [
  {
   "cell_type": "code",
   "execution_count": 1,
   "metadata": {},
   "outputs": [
    {
     "ename": "SyntaxError",
     "evalue": "invalid syntax (<ipython-input-1-dc52dc098293>, line 7)",
     "output_type": "error",
     "traceback": [
      "\u001b[1;36m  File \u001b[1;32m\"<ipython-input-1-dc52dc098293>\"\u001b[1;36m, line \u001b[1;32m7\u001b[0m\n\u001b[1;33m    public class GaussianTest {\u001b[0m\n\u001b[1;37m               ^\u001b[0m\n\u001b[1;31mSyntaxError\u001b[0m\u001b[1;31m:\u001b[0m invalid syntax\n"
     ]
    }
   ],
   "source": [
    "import org.opencv.core.Core;\n",
    "import org.opencv.core.Mat;\n",
    "import org.opencv.core.Size;\n",
    "import org.opencv.imgcodecs.Imgcodecs;\n",
    "import org.opencv.imgproc.Imgproc;\n",
    "\n",
    "public class GaussianTest {\n",
    "   public static void main(String args[]) {\n",
    "      // Loading the OpenCV core library\n",
    "      System.loadLibrary(Core.NATIVE_LIBRARY_NAME);\n",
    "\n",
    "      // Reading the Image from the file and storing it in to a Matrix object\n",
    "      String file =\"C:/EXAMPLES/OpenCV/sample.jpg\";\n",
    "      Mat src = Imgcodecs.imread(file);\n",
    "\n",
    "      // Creating an empty matrix to store the result\n",
    "      Mat dst = new Mat();\n",
    "    \n",
    "      // Applying GaussianBlur on the Image\n",
    "      Imgproc.GaussianBlur(src, dst, new Size(45, 45), 0);\n",
    "\n",
    "      // Writing the image\n",
    "      Imgcodecs.imwrite(\"tower.jpg\", dst);\n",
    "      System.out.println(\"Image Processed\");\n",
    "   }\n",
    "}"
   ]
  },
  {
   "cell_type": "code",
   "execution_count": null,
   "metadata": {},
   "outputs": [],
   "source": []
  }
 ],
 "metadata": {
  "kernelspec": {
   "display_name": "Python 3",
   "language": "python",
   "name": "python3"
  },
  "language_info": {
   "codemirror_mode": {
    "name": "ipython",
    "version": 3
   },
   "file_extension": ".py",
   "mimetype": "text/x-python",
   "name": "python",
   "nbconvert_exporter": "python",
   "pygments_lexer": "ipython3",
   "version": "3.7.7"
  }
 },
 "nbformat": 4,
 "nbformat_minor": 4
}
